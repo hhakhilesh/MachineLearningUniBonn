{
 "cells": [
  {
   "cell_type": "markdown",
   "metadata": {},
   "source": [
    "# physics724: Advanced Methods of Data Analysis\n",
    "\n",
    "Before you turn this problem in, make sure everything runs as expected. First, **restart the kernel** (in the menubar, select Kernel$\\rightarrow$Restart) and then **run all cells** (in the menubar, select Cell$\\rightarrow$Run All).\n",
    "\n",
    "Make sure you fill in any place that says `YOUR CODE HERE` or \"YOUR ANSWER HERE\". Remember to delete the `raise NotImplementedError()` statements as you implement your solutions."
   ]
  },
  {
   "cell_type": "markdown",
   "metadata": {},
   "source": [
    "---"
   ]
  },
  {
   "cell_type": "markdown",
   "metadata": {},
   "source": [
    "# Exercise 7: Multivariate analysis with BDTs\n",
    "\n",
    "For this exercise we recommend using [SciKit-Learn](https://scikit-learn.org/stable/index.html), which you can install using `pip3 install --user sklearn`"
   ]
  },
  {
   "cell_type": "markdown",
   "metadata": {
    "deletable": false,
    "editable": false,
    "nbgrader": {
     "cell_type": "markdown",
     "checksum": "6f3f8d88da54fe173e76a5dfe8f91e6c",
     "grade": false,
     "grade_id": "cell-60c1905b60cc40fc",
     "locked": true,
     "schema_version": 3,
     "solution": false,
     "task": false
    }
   },
   "source": [
    "## Machine Learning for the $\\tau^-\\to\\mu^-\\mu^+\\mu^-$ search at LHCb\n",
    "\n",
    "The LHCb experiment at CERN is able to search for exotic decays of the $\\tau$ lepton to three muons. This process is fobidden in the Standard Model but is predicted to be sizeable in several theories beyond the Standard Model.\n",
    "\n",
    "Your goal is to maximise the chances to find this decay in the dataset collected by LHCb using a Machine Learning technique to classify the recorded events as signal or background.\n",
    "\n",
    "You are given a dataset composed of labelled signal (`signal==1`) and background (`signal==0`) events. Each event is described by a set of *features* whose distribution might be different between signal and background. The goal is to train a Machine Learning classifier to guess if an event is signal or background based on these features.\n",
    "\n",
    "Here's the list of features recorded in the dataset that you can use for the classification:\n",
    "* `DecayTime` - How long the $\\tau$ candidate existed before decaying.\n",
    "* `IP` - [Impact parameter](https://en.wikipedia.org/wiki/Impact_parameter) of the $\\tau$ candidate and the collision point.\n",
    "* `VertexChi2` - The $\\chi^2$ of a fit to locate the $\\tau$ decay vertex.\n",
    "* `pt` - Transverse momentum of the $\\tau$.\n",
    "* `DOCAone` - Distance of closest approach between first and second muons.\n",
    "* `DOCAtwo` - Distance of closest approach between second and third muons.\n",
    "* `DOCAthree` - Distance of closest approach between first and third muons.\n",
    "* `isolationa` - Track isolation variable.\n",
    "* `isolationb` - Track isolation variable.\n",
    "* `isolationc` - Track isolation variable.\n",
    "* `p0_pt` - Transverse momentum of the first muon.\n",
    "* `p1_pt` - Transverse momentum of the second muon.\n",
    "* `p2_pt` - Transverse momentum of the third muon.\n",
    "* `p0_IP` - Impact parameter of the first muon.\n",
    "* `p1_IP` - Impact parameter of the second muon.\n",
    "* `p2_IP` - Impact parameter of the third muon."
   ]
  },
  {
   "cell_type": "code",
   "execution_count": 1,
   "metadata": {
    "deletable": false,
    "editable": false,
    "nbgrader": {
     "cell_type": "code",
     "checksum": "4acf370350a1e3861431cc79d74d6e58",
     "grade": false,
     "grade_id": "cell-5e2c1e8b6392482f",
     "locked": true,
     "schema_version": 3,
     "solution": false,
     "task": false
    }
   },
   "outputs": [],
   "source": [
    "import pandas as pd\n",
    "d = pd.read_csv('training_reduced.csv')"
   ]
  },
  {
   "cell_type": "code",
   "execution_count": 2,
   "metadata": {},
   "outputs": [
    {
     "data": {
      "text/plain": [
       "Index(['signal', 'LifeTime', 'IP', 'VertexChi2', 'pt', 'DOCAone', 'DOCAtwo',\n",
       "       'DOCAthree', 'isolationa', 'isolationb', 'isolationc', 'p0_pt', 'p1_pt',\n",
       "       'p2_pt', 'p0_IP', 'p1_IP', 'p2_IP'],\n",
       "      dtype='object')"
      ]
     },
     "execution_count": 2,
     "metadata": {},
     "output_type": "execute_result"
    }
   ],
   "source": [
    "d.columns"
   ]
  },
  {
   "cell_type": "markdown",
   "metadata": {
    "deletable": false,
    "editable": false,
    "nbgrader": {
     "cell_type": "markdown",
     "checksum": "7703b965e1c9347b7cc68814c9253cd0",
     "grade": false,
     "grade_id": "cell-c78af8cae07492b9",
     "locked": true,
     "schema_version": 3,
     "solution": false,
     "task": false
    }
   },
   "source": [
    "1. Calculate the [Kolmogorov-Smirnov test](https://en.wikipedia.org/wiki/Kolmogorov%E2%80%93Smirnov_test) between signal and background for each of the features of the dataset. The test evaluates how likely are two data samples to be drawn from the same PDF, and therefore should be larger for the features that are most powerful to discriminate signal and background.\n",
    "\n",
    "*Hint:* you can use the [`ks_2samp` function](https://docs.scipy.org/doc/scipy/reference/generated/scipy.stats.ks_2samp.html) from `scipy.stats` to compute the Kolmogorov-Smirnov test between two samples\n",
    "\n",
    "*Hint:* you can get the list of features from the DataFrame column headings, i.e. `d.keys()`"
   ]
  },
  {
   "cell_type": "code",
   "execution_count": 1,
   "metadata": {},
   "outputs": [],
   "source": [
    "from scipy.stats import ks_2samp\n",
    "# help(ks_2samp)"
   ]
  },
  {
   "cell_type": "code",
   "execution_count": 4,
   "metadata": {
    "deletable": false,
    "nbgrader": {
     "cell_type": "code",
     "checksum": "6710ad9a06a320f9443348072e171f99",
     "grade": true,
     "grade_id": "cell-f2a3f62ce71f2364",
     "locked": false,
     "points": 5,
     "schema_version": 3,
     "solution": true,
     "task": false
    }
   },
   "outputs": [
    {
     "name": "stdout",
     "output_type": "stream",
     "text": [
      "Feature : LifeTime - Ks_2sampResult(statistic=0.14423987132737376, pvalue=6.255480873551991e-289)\n",
      "Feature : IP - Ks_2sampResult(statistic=0.5503323429451006, pvalue=0.0)\n",
      "Feature : VertexChi2 - Ks_2sampResult(statistic=0.28567312506181025, pvalue=0.0)\n",
      "Feature : pt - Ks_2sampResult(statistic=0.1377976891036844, pvalue=9.811177056126434e-264)\n",
      "Feature : DOCAone - Ks_2sampResult(statistic=0.15488706886849868, pvalue=0.0)\n",
      "Feature : DOCAtwo - Ks_2sampResult(statistic=0.15537702908242712, pvalue=0.0)\n",
      "Feature : DOCAthree - Ks_2sampResult(statistic=0.14469064866972225, pvalue=9.776358724748002e-291)\n",
      "Feature : isolationa - Ks_2sampResult(statistic=0.24067798381021005, pvalue=0.0)\n",
      "Feature : isolationb - Ks_2sampResult(statistic=0.16782063583131873, pvalue=0.0)\n",
      "Feature : isolationc - Ks_2sampResult(statistic=0.1686414213935396, pvalue=0.0)\n",
      "Feature : p0_pt - Ks_2sampResult(statistic=0.10270530235899855, pvalue=1.0634430433279355e-146)\n",
      "Feature : p1_pt - Ks_2sampResult(statistic=0.1370815349196095, pvalue=5.266485478076609e-261)\n",
      "Feature : p2_pt - Ks_2sampResult(statistic=0.039081124813342416, pvalue=1.3227975344131963e-21)\n",
      "Feature : p0_IP - Ks_2sampResult(statistic=0.1283789911393617, pvalue=5.712154871731341e-229)\n",
      "Feature : p1_IP - Ks_2sampResult(statistic=0.01844486715444149, pvalue=3.830861584102218e-05)\n",
      "Feature : p2_IP - Ks_2sampResult(statistic=0.023197690690730743, pvalue=6.89834102016842e-08)\n"
     ]
    }
   ],
   "source": [
    "columns = ['LifeTime', 'IP', 'VertexChi2', 'pt', 'DOCAone', 'DOCAtwo', 'DOCAthree', 'isolationa', 'isolationb', 'isolationc', 'p0_pt',\n",
    "           'p1_pt', 'p2_pt', 'p0_IP', 'p1_IP', 'p2_IP']\n",
    "for i in range (len(columns)):\n",
    "    x = d[columns[i]][:25879]\n",
    "    y = d[columns[i]][25879:]\n",
    "    print(\"Feature : \" + str(columns[i]) + \" -\", ks_2samp(x,y))"
   ]
  },
  {
   "cell_type": "markdown",
   "metadata": {
    "deletable": false,
    "editable": false,
    "nbgrader": {
     "cell_type": "markdown",
     "checksum": "8e86d40728f4d5385c6e24f7c8ca9a02",
     "grade": false,
     "grade_id": "cell-61c705a9a334bfdf",
     "locked": true,
     "schema_version": 3,
     "solution": false,
     "task": false
    }
   },
   "source": [
    "2. The least and most discriminating features are the ones with the lowest and highest Kolmogorov-Smirnov scores, respectively. Compare the signal and background distributions for these two features.\n",
    "\n",
    "**NB:** please do not use the label `signal` as a feature!"
   ]
  },
  {
   "cell_type": "markdown",
   "metadata": {
    "deletable": false,
    "nbgrader": {
     "cell_type": "code",
     "checksum": "7704eaeaacbf987be01a1495bcb6c23a",
     "grade": true,
     "grade_id": "cell-f6252ff89e36b7df",
     "locked": false,
     "points": 3,
     "schema_version": 3,
     "solution": true,
     "task": false
    }
   },
   "source": [
    "#### From the above result we can see that the least discriminating feature is the impact parameter of the second muon 'p1_IP' and the most discriminating feature is the impact parameter of the $\\tau$."
   ]
  },
  {
   "cell_type": "code",
   "execution_count": 5,
   "metadata": {},
   "outputs": [],
   "source": [
    "# splitting the data with respect to background and signal\n",
    "tauIP_back = d['IP'][:25879] # impact parameter for tau for background\n",
    "tauIP_signal = d['IP'][25879:] # impact parameter for tau for signal\n",
    "muonIP_back = d['p1_IP'][:25879] # IP for muon for background\n",
    "muonIP_signal = d['p1_IP'][25879:] # IP for muon for signal"
   ]
  },
  {
   "cell_type": "code",
   "execution_count": 6,
   "metadata": {},
   "outputs": [
    {
     "data": {
      "text/plain": [
       "<matplotlib.axes._subplots.AxesSubplot at 0x1820b4bc668>"
      ]
     },
     "execution_count": 6,
     "metadata": {},
     "output_type": "execute_result"
    },
    {
     "data": {
      "image/png": "[encoded data removed]",
      "text/plain": [
       "<Figure size 432x288 with 1 Axes>"
      ]
     },
     "metadata": {
      "needs_background": "light"
     },
     "output_type": "display_data"
    }
   ],
   "source": [
    "#background distribution for tauIP\n",
    "tauIP_back.hist(bins=100)"
   ]
  },
  {
   "cell_type": "code",
   "execution_count": 7,
   "metadata": {},
   "outputs": [
    {
     "data": {
      "text/plain": [
       "[(-0.2, 1)]"
      ]
     },
     "execution_count": 7,
     "metadata": {},
     "output_type": "execute_result"
    },
    {
     "data": {
      "image/png": "[encoded data removed]",
      "text/plain": [
       "<Figure size 432x288 with 1 Axes>"
      ]
     },
     "metadata": {
      "needs_background": "light"
     },
     "output_type": "display_data"
    }
   ],
   "source": [
    "#signal distribution for tauIP\n",
    "tauIP_signal.hist(bins=100).set(xlim=(-0.2,1))"
   ]
  },
  {
   "cell_type": "code",
   "execution_count": 8,
   "metadata": {},
   "outputs": [
    {
     "data": {
      "text/plain": [
       "[(0, 3)]"
      ]
     },
     "execution_count": 8,
     "metadata": {},
     "output_type": "execute_result"
    },
    {
     "data": {
      "image/png": "[encoded data removed]",
      "text/plain": [
       "<Figure size 432x288 with 1 Axes>"
      ]
     },
     "metadata": {
      "needs_background": "light"
     },
     "output_type": "display_data"
    }
   ],
   "source": [
    "#background distribution for muonIP\n",
    "muonIP_back.hist(bins=100).set(xlim=(0,3))"
   ]
  },
  {
   "cell_type": "code",
   "execution_count": 9,
   "metadata": {},
   "outputs": [
    {
     "data": {
      "text/plain": [
       "[(0, 3)]"
      ]
     },
     "execution_count": 9,
     "metadata": {},
     "output_type": "execute_result"
    },
    {
     "data": {
      "image/png": "[encoded data removed]",
      "text/plain": [
       "<Figure size 432x288 with 1 Axes>"
      ]
     },
     "metadata": {
      "needs_background": "light"
     },
     "output_type": "display_data"
    }
   ],
   "source": [
    "#signal distribution for muonIP\n",
    "muonIP_signal.hist(bins=100).set(xlim=(0,3))"
   ]
  },
  {
   "cell_type": "markdown",
   "metadata": {
    "deletable": false,
    "editable": false,
    "nbgrader": {
     "cell_type": "markdown",
     "checksum": "f9e0a16d36a3ee3aa8a018c7f07ce75a",
     "grade": false,
     "grade_id": "cell-02d76d49068c2409",
     "locked": true,
     "schema_version": 3,
     "solution": false,
     "task": false
    }
   },
   "source": [
    "3. Split the dataset *randomly* in two halves: we will use one half for training our classifier and the other half to test it.\n",
    "\n",
    "*Hint:* you can use the function `train_test_split` from `sklearn.model_selection`\n",
    "\n",
    "**NB:** the dataset is ordered by `signal`, hence the need for random splitting."
   ]
  },
  {
   "cell_type": "code",
   "execution_count": 10,
   "metadata": {
    "deletable": false,
    "nbgrader": {
     "cell_type": "code",
     "checksum": "68483891643b00637d7c4acd978a5881",
     "grade": true,
     "grade_id": "cell-b9763f84f39a6a4a",
     "locked": false,
     "points": 5,
     "schema_version": 3,
     "solution": true,
     "task": false
    }
   },
   "outputs": [],
   "source": [
    "from sklearn.model_selection import train_test_split\n",
    "\n",
    "X = d.drop(['signal', 'LifeTime', 'pt', 'DOCAone', 'DOCAtwo', 'DOCAthree', 'isolationb', 'isolationc', 'p0_pt',\n",
    "           'p1_pt', 'p2_pt', 'p0_IP', 'p1_IP', 'p2_IP'], axis=1) # we are considering only three most discriminating features\n",
    "Y = d.signal.values\n",
    "X_train, X_test, y_train, y_test = train_test_split(X, Y, test_size = 0.5, random_state=42) # splitting the data"
   ]
  },
  {
   "cell_type": "markdown",
   "metadata": {
    "deletable": false,
    "editable": false,
    "nbgrader": {
     "cell_type": "markdown",
     "checksum": "b88cac38a7e3ee5fcfcdd2d93f5ec5a7",
     "grade": false,
     "grade_id": "cell-0106538f76b71a22",
     "locked": true,
     "schema_version": 3,
     "solution": false,
     "task": false
    }
   },
   "source": [
    "4. Now train a gradient-boosted decision tree (GBDT) on the training sample using the three features of your choice (possibly the most discriminant ones). You can use [`GradientBoostingClassifier` from `sklearn.ensemble`](https://scikit-learn.org/stable/modules/generated/sklearn.ensemble.GradientBoostingClassifier.html)"
   ]
  },
  {
   "cell_type": "code",
   "execution_count": 11,
   "metadata": {
    "deletable": false,
    "nbgrader": {
     "cell_type": "code",
     "checksum": "4b57a4b4572880fef4a67f7ffc5cdcee",
     "grade": true,
     "grade_id": "cell-0db9532e5cd6070d",
     "locked": false,
     "points": 8,
     "schema_version": 3,
     "solution": true,
     "task": false
    }
   },
   "outputs": [],
   "source": [
    "from sklearn.ensemble import GradientBoostingClassifier\n",
    "import matplotlib.pyplot as plt"
   ]
  },
  {
   "cell_type": "code",
   "execution_count": 12,
   "metadata": {},
   "outputs": [
    {
     "data": {
      "text/plain": [
       "0.7895017319477751"
      ]
     },
     "execution_count": 12,
     "metadata": {},
     "output_type": "execute_result"
    }
   ],
   "source": [
    "#In collaboration with Divyanshu Katiyar\n",
    "gbdt = GradientBoostingClassifier(n_estimators=50, learning_rate=1.0, random_state=0).fit(X_train, y_train)\n",
    "gbdt.score(X_test, y_test)"
   ]
  },
  {
   "cell_type": "markdown",
   "metadata": {
    "deletable": false,
    "editable": false,
    "nbgrader": {
     "cell_type": "markdown",
     "checksum": "8f6e43683130b5ad7aa220281bd63765",
     "grade": false,
     "grade_id": "cell-975e999a138c1a28",
     "locked": true,
     "schema_version": 3,
     "solution": false,
     "task": false
    }
   },
   "source": [
    "5. Calculate the classifier response on both the training and testing samples and overlay histograms of the response for signal and background.\n",
    "\n",
    "*Hint:* to evaluate the response use `gbdt.decision_function(features)`"
   ]
  },
  {
   "cell_type": "code",
   "execution_count": 13,
   "metadata": {
    "deletable": false,
    "nbgrader": {
     "cell_type": "code",
     "checksum": "85b24637bc589e9974a27c71321b93c4",
     "grade": true,
     "grade_id": "cell-2f83e42a6cf391cf",
     "locked": false,
     "points": 8,
     "schema_version": 3,
     "solution": true,
     "task": false
    }
   },
   "outputs": [
    {
     "name": "stdout",
     "output_type": "stream",
     "text": [
      "[-1.77852184  2.61640675  0.32153411 ...  1.59789025 -2.29169173\n",
      " -2.44343833]\n",
      "[-0.95882224  3.70769928 -0.84840712 ...  2.64288979  0.31400093\n",
      " -1.64212588]\n"
     ]
    }
   ],
   "source": [
    "#In collaboration with Divyanshu Katiyar\n",
    "clr_training = gbdt.decision_function(X_train) # classifier response for training sample\n",
    "clr_test = gbdt.decision_function(X_test) # classifier response for the test sample\n",
    "print(clr_training)\n",
    "print(clr_test)"
   ]
  },
  {
   "cell_type": "code",
   "execution_count": 14,
   "metadata": {},
   "outputs": [
    {
     "data": {
      "text/plain": [
       "(array([1.000e+00, 0.000e+00, 0.000e+00, 0.000e+00, 0.000e+00, 0.000e+00,\n",
       "        0.000e+00, 0.000e+00, 0.000e+00, 0.000e+00, 0.000e+00, 0.000e+00,\n",
       "        0.000e+00, 0.000e+00, 0.000e+00, 2.000e+00, 0.000e+00, 1.000e+00,\n",
       "        0.000e+00, 3.000e+00, 3.400e+01, 7.580e+02, 5.255e+03, 9.886e+03,\n",
       "        7.564e+03, 1.008e+04, 1.830e+02, 6.000e+00, 1.000e+00, 2.000e+00]),\n",
       " array([-42.95705832, -41.1436795 , -39.33030067, -37.51692185,\n",
       "        -35.70354302, -33.8901642 , -32.07678537, -30.26340655,\n",
       "        -28.45002772, -26.6366489 , -24.82327007, -23.00989125,\n",
       "        -21.19651242, -19.3831336 , -17.56975477, -15.75637595,\n",
       "        -13.94299712, -12.1296183 , -10.31623947,  -8.50286065,\n",
       "         -6.68948182,  -4.876103  ,  -3.06272417,  -1.24934534,\n",
       "          0.56403348,   2.37741231,   4.19079113,   6.00416996,\n",
       "          7.81754878,   9.63092761,  11.44430643]),\n",
       " <a list of 30 Patch objects>)"
      ]
     },
     "execution_count": 14,
     "metadata": {},
     "output_type": "execute_result"
    },
    {
     "data": {
      "image/png": "[encoded data removed]",
      "text/plain": [
       "<Figure size 432x288 with 1 Axes>"
      ]
     },
     "metadata": {
      "needs_background": "light"
     },
     "output_type": "display_data"
    }
   ],
   "source": [
    "plt.hist(clr_training, bins=30)"
   ]
  },
  {
   "cell_type": "code",
   "execution_count": 15,
   "metadata": {},
   "outputs": [
    {
     "data": {
      "text/plain": [
       "(array([1.000e+00, 0.000e+00, 0.000e+00, 0.000e+00, 0.000e+00, 8.000e+00,\n",
       "        9.000e+00, 3.800e+01, 1.190e+02, 6.040e+02, 1.359e+03, 2.608e+03,\n",
       "        3.758e+03, 4.809e+03, 3.237e+03, 2.874e+03, 3.810e+03, 7.038e+03,\n",
       "        3.170e+03, 2.350e+02, 7.300e+01, 1.400e+01, 7.000e+00, 1.000e+00,\n",
       "        1.000e+00, 1.000e+00, 1.000e+00, 0.000e+00, 0.000e+00, 2.000e+00]),\n",
       " array([-10.77342388, -10.00208771,  -9.23075155,  -8.45941538,\n",
       "         -7.68807922,  -6.91674305,  -6.14540689,  -5.37407072,\n",
       "         -4.60273456,  -3.83139839,  -3.06006223,  -2.28872606,\n",
       "         -1.5173899 ,  -0.74605373,   0.02528244,   0.7966186 ,\n",
       "          1.56795477,   2.33929093,   3.1106271 ,   3.88196326,\n",
       "          4.65329943,   5.42463559,   6.19597176,   6.96730792,\n",
       "          7.73864409,   8.50998025,   9.28131642,  10.05265259,\n",
       "         10.82398875,  11.59532492,  12.36666108]),\n",
       " <a list of 30 Patch objects>)"
      ]
     },
     "execution_count": 15,
     "metadata": {},
     "output_type": "execute_result"
    },
    {
     "data": {
      "image/png": "[encoded data removed]",
      "text/plain": [
       "<Figure size 432x288 with 1 Axes>"
      ]
     },
     "metadata": {
      "needs_background": "light"
     },
     "output_type": "display_data"
    }
   ],
   "source": [
    "plt.hist(clr_test, bins=30)"
   ]
  },
  {
   "cell_type": "markdown",
   "metadata": {
    "deletable": false,
    "editable": false,
    "nbgrader": {
     "cell_type": "markdown",
     "checksum": "3df6263c4e7ae6ff65d51f3dc93b1d5d",
     "grade": false,
     "grade_id": "cell-294fcc23d1a6b7d2",
     "locked": true,
     "schema_version": 3,
     "solution": false,
     "task": false
    }
   },
   "source": [
    "6. Check if there is overtraining by performing a Kolmogorov-Smirnov test on the GBDT response between the training and testing sample. If you did not overtrain the classifier, its response should be the same on the training and testing samples both for signal and for background. Therefore the K-S scores should be small (~0.01)."
   ]
  },
  {
   "cell_type": "code",
   "execution_count": 16,
   "metadata": {
    "deletable": false,
    "nbgrader": {
     "cell_type": "code",
     "checksum": "3d298fc4c6a3bf55862651f0f4bd6f9a",
     "grade": true,
     "grade_id": "cell-e411fd644f4f2b0f",
     "locked": false,
     "points": 5,
     "schema_version": 3,
     "solution": true,
     "task": false
    }
   },
   "outputs": [
    {
     "data": {
      "text/plain": [
       "Ks_2sampResult(statistic=0.009409914214706161, pvalue=0.10048266416290746)"
      ]
     },
     "execution_count": 16,
     "metadata": {},
     "output_type": "execute_result"
    }
   ],
   "source": [
    "ks_2samp(clr_training, clr_test) "
   ]
  },
  {
   "cell_type": "markdown",
   "metadata": {},
   "source": [
    "#### We see that the KS score is pretty small implying that we did not overtrain the data."
   ]
  },
  {
   "cell_type": "markdown",
   "metadata": {
    "deletable": false,
    "editable": false,
    "nbgrader": {
     "cell_type": "markdown",
     "checksum": "5787aae3f6535bfd983db800ea96b82a",
     "grade": false,
     "grade_id": "cell-acaa58bf9421dd88",
     "locked": true,
     "schema_version": 3,
     "solution": false,
     "task": false
    }
   },
   "source": [
    "7. Show the performance of your classifier with a ROC curve (if you did not manage to train it, just calculate the ROC for one of the features instead). Plot the ROC curve and label the axes.\n",
    "\n",
    "*Hint:* you can use the function `roc_curve` from `sklearn.metrics`"
   ]
  },
  {
   "cell_type": "code",
   "execution_count": 17,
   "metadata": {},
   "outputs": [],
   "source": [
    "from sklearn import metrics\n",
    "# help(roc_curve)"
   ]
  },
  {
   "cell_type": "code",
   "execution_count": 18,
   "metadata": {
    "deletable": false,
    "nbgrader": {
     "cell_type": "code",
     "checksum": "a7a3eec0f63418b1faabd8a53d8d624e",
     "grade": true,
     "grade_id": "cell-0bcb1d7a69054c7d",
     "locked": false,
     "points": 6,
     "schema_version": 3,
     "solution": true,
     "task": false
    }
   },
   "outputs": [
    {
     "data": {
      "text/plain": [
       "<sklearn.metrics._plot.roc_curve.RocCurveDisplay at 0x1820cdb0438>"
      ]
     },
     "execution_count": 18,
     "metadata": {},
     "output_type": "execute_result"
    },
    {
     "data": {
      "image/png": "[encoded data removed]",
      "text/plain": [
       "<Figure size 432x288 with 1 Axes>"
      ]
     },
     "metadata": {
      "needs_background": "light"
     },
     "output_type": "display_data"
    }
   ],
   "source": [
    "metrics.plot_roc_curve(gbdt, X_test, y_test)"
   ]
  },
  {
   "cell_type": "markdown",
   "metadata": {
    "deletable": false,
    "editable": false,
    "nbgrader": {
     "cell_type": "markdown",
     "checksum": "f6f72962fbb6bca4f549bc261c271ed4",
     "grade": false,
     "grade_id": "cell-ad0d89951c7fa786",
     "locked": true,
     "schema_version": 3,
     "solution": false,
     "task": false
    }
   },
   "source": [
    "**Bonus**: Try to improve the performance of your classifier by including more features and changing the initialisation options of the `GradientBoostingClassifier` object."
   ]
  },
  {
   "cell_type": "code",
   "execution_count": 29,
   "metadata": {
    "deletable": false,
    "nbgrader": {
     "cell_type": "code",
     "checksum": "93cf8c6ada653d4b243a9f57ebd9f1e1",
     "grade": true,
     "grade_id": "cell-8bff47739ab02e4e",
     "locked": false,
     "points": 0,
     "schema_version": 3,
     "solution": true,
     "task": false
    }
   },
   "outputs": [],
   "source": [
    "# including more features\n",
    "#In collaboration with Divyanshu Katiyar\n",
    "X1 = d.drop(['signal', 'p2_pt', 'p1_IP', 'p2_IP'], axis=1)\n",
    "X_train1, X_test1, y_train1, y_test1 = train_test_split(X1, Y, test_size=0.5, random_state=42)"
   ]
  },
  {
   "cell_type": "code",
   "execution_count": 38,
   "metadata": {},
   "outputs": [
    {
     "data": {
      "text/plain": [
       "0.8211504870177931"
      ]
     },
     "execution_count": 38,
     "metadata": {},
     "output_type": "execute_result"
    }
   ],
   "source": [
    "gbdt1 = GradientBoostingClassifier(n_estimators=70, learning_rate=0.7, random_state=42).fit(X_train1, y_train1)\n",
    "gbdt1.score(X_test1, y_test1)"
   ]
  },
  {
   "cell_type": "code",
   "execution_count": 39,
   "metadata": {},
   "outputs": [
    {
     "name": "stdout",
     "output_type": "stream",
     "text": [
      "[-1.78332312  0.86929884  1.38091787 ...  1.77344365 -4.32122257\n",
      " -1.76484081]\n",
      "[-1.68254243  4.05052532 -0.95061594 ...  2.94416368  1.67732313\n",
      " -3.14628434]\n"
     ]
    }
   ],
   "source": [
    "clr_training1 = gbdt1.decision_function(X_train1)\n",
    "clr_test1 = gbdt1.decision_function(X_test1)\n",
    "print(clr_training1)\n",
    "print(clr_test1)"
   ]
  },
  {
   "cell_type": "code",
   "execution_count": 40,
   "metadata": {},
   "outputs": [
    {
     "data": {
      "text/plain": [
       "Ks_2sampResult(statistic=0.008655210680658054, pvalue=0.1591917461212304)"
      ]
     },
     "execution_count": 40,
     "metadata": {},
     "output_type": "execute_result"
    }
   ],
   "source": [
    "ks_2samp(clr_training1, clr_test1)"
   ]
  },
  {
   "cell_type": "code",
   "execution_count": 41,
   "metadata": {},
   "outputs": [
    {
     "data": {
      "text/plain": [
       "<sklearn.metrics._plot.roc_curve.RocCurveDisplay at 0x1820ef26da0>"
      ]
     },
     "execution_count": 41,
     "metadata": {},
     "output_type": "execute_result"
    },
    {
     "data": {
      "image/png": "[encoded data removed]",
      "text/plain": [
       "<Figure size 432x288 with 1 Axes>"
      ]
     },
     "metadata": {
      "needs_background": "light"
     },
     "output_type": "display_data"
    }
   ],
   "source": [
    "metrics.plot_roc_curve(gbdt1, X_test1, y_test1)"
   ]
  },
  {
   "cell_type": "code",
   "execution_count": null,
   "metadata": {},
   "outputs": [],
   "source": []
  }
 ],
 "metadata": {
  "kernelspec": {
   "display_name": "Python 3 (ipykernel)",
   "language": "python",
   "name": "python3"
  },
  "language_info": {
   "codemirror_mode": {
    "name": "ipython",
    "version": 3
   },
   "file_extension": ".py",
   "mimetype": "text/x-python",
   "name": "python",
   "nbconvert_exporter": "python",
   "pygments_lexer": "ipython3",
   "version": "3.8.10"
  }
 },
 "nbformat": 4,
 "nbformat_minor": 4
}
